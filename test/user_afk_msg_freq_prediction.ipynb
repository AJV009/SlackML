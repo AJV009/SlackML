{
 "cells": [
  {
   "cell_type": "markdown",
   "metadata": {},
   "source": [
    "# Predict AFK/user based of Date and Time"
   ]
  },
  {
   "cell_type": "code",
   "execution_count": 79,
   "metadata": {},
   "outputs": [],
   "source": [
    "# imports\n",
    "import pandas as pd, sklearn as sk, numpy as np, matplotlib.pyplot as plt\n",
    "from scipy import stats\n",
    "from scipy.signal import find_peaks"
   ]
  },
  {
   "cell_type": "markdown",
   "id": "0c0dbb43",
   "metadata": {},
   "source": [
    "AFK is an abbreviation for Away From Keyboard.\n",
    "We are predicting the number of AFK users based on the date and time of the message.\n",
    "\n",
    "We are hoping to predict if a certain user is AFK or not at a certain pre-defined time frame."
   ]
  },
  {
   "cell_type": "code",
   "execution_count": 80,
   "metadata": {},
   "outputs": [
    {
     "data": {
      "text/plain": [
       "Index(['_id', 'client_msg_id', 'edited.ts', 'edited.user', 'latest_reply',\n",
       "       'parent_user_id', 'reactions', 'replies', 'reply_count', 'reply_users',\n",
       "       'reply_users_count', 'root.client_msg_id', 'root.edited.ts',\n",
       "       'root.edited.user', 'root.latest_reply', 'root.replies',\n",
       "       'root.reply_count', 'root.reply_users', 'root.reply_users_count',\n",
       "       'root.subscribed', 'root.team', 'root.text', 'root.thread_ts',\n",
       "       'root.ts', 'root.type', 'root.user', 'subscribed', 'subtype', 'team',\n",
       "       'text', 'thread_ts', 'ts', 'type', 'user'],\n",
       "      dtype='object')"
      ]
     },
     "execution_count": 80,
     "metadata": {},
     "output_type": "execute_result"
    }
   ],
   "source": [
    "# read data to df\n",
    "df = pd.read_csv('slack_data.csv')\n",
    "# list all columns\n",
    "df.columns"
   ]
  },
  {
   "cell_type": "markdown",
   "id": "d2bed16e",
   "metadata": {},
   "source": [
    "We only need the following columns:\n",
    "- datetime - to track the time of the message, its a major requirement since we are predicting based on the time of the message\n",
    "- user - to track the user who sent the message\n",
    "- text - to track the message or detect afk's"
   ]
  },
  {
   "cell_type": "code",
   "execution_count": 81,
   "id": "2fc46b13",
   "metadata": {},
   "outputs": [],
   "source": [
    "imp_col = ['datetime','user','text']"
   ]
  },
  {
   "cell_type": "code",
   "execution_count": 82,
   "metadata": {},
   "outputs": [
    {
     "data": {
      "text/html": [
       "<div>\n",
       "<style scoped>\n",
       "    .dataframe tbody tr th:only-of-type {\n",
       "        vertical-align: middle;\n",
       "    }\n",
       "\n",
       "    .dataframe tbody tr th {\n",
       "        vertical-align: top;\n",
       "    }\n",
       "\n",
       "    .dataframe thead th {\n",
       "        text-align: right;\n",
       "    }\n",
       "</style>\n",
       "<table border=\"1\" class=\"dataframe\">\n",
       "  <thead>\n",
       "    <tr style=\"text-align: right;\">\n",
       "      <th></th>\n",
       "      <th>datetime</th>\n",
       "      <th>user</th>\n",
       "      <th>text_num</th>\n",
       "    </tr>\n",
       "  </thead>\n",
       "  <tbody>\n",
       "    <tr>\n",
       "      <th>36673</th>\n",
       "      <td>2018-02-01 13:49:44</td>\n",
       "      <td>U026L9E5X</td>\n",
       "      <td>1</td>\n",
       "    </tr>\n",
       "    <tr>\n",
       "      <th>17936</th>\n",
       "      <td>2018-02-01 13:49:44</td>\n",
       "      <td>U026L9E5X</td>\n",
       "      <td>1</td>\n",
       "    </tr>\n",
       "    <tr>\n",
       "      <th>55010</th>\n",
       "      <td>2018-02-01 13:49:44</td>\n",
       "      <td>U026L9E5X</td>\n",
       "      <td>1</td>\n",
       "    </tr>\n",
       "    <tr>\n",
       "      <th>36640</th>\n",
       "      <td>2018-02-01 14:37:34</td>\n",
       "      <td>U0H5WEF6G</td>\n",
       "      <td>1</td>\n",
       "    </tr>\n",
       "    <tr>\n",
       "      <th>17903</th>\n",
       "      <td>2018-02-01 14:37:34</td>\n",
       "      <td>U0H5WEF6G</td>\n",
       "      <td>1</td>\n",
       "    </tr>\n",
       "  </tbody>\n",
       "</table>\n",
       "</div>"
      ],
      "text/plain": [
       "                 datetime       user  text_num\n",
       "36673 2018-02-01 13:49:44  U026L9E5X         1\n",
       "17936 2018-02-01 13:49:44  U026L9E5X         1\n",
       "55010 2018-02-01 13:49:44  U026L9E5X         1\n",
       "36640 2018-02-01 14:37:34  U0H5WEF6G         1\n",
       "17903 2018-02-01 14:37:34  U0H5WEF6G         1"
      ]
     },
     "execution_count": 82,
     "metadata": {},
     "output_type": "execute_result"
    }
   ],
   "source": [
    "# convert linux_time to datetime and filter AFK\n",
    "import datetime\n",
    "# filter text column\n",
    "df = df[df['text'].notna()]\n",
    "# convert linux_time to datetime\n",
    "ts = lambda x: datetime.datetime.fromtimestamp(x).strftime('%Y-%m-%d %H:%M:%S')\n",
    "df['datetime'] = pd.to_datetime(df['ts'].apply(ts), format='%Y-%m-%d %H:%M:%S')\n",
    "# filter AFK\n",
    "t_df = df[imp_col]\n",
    "t_df = t_df[t_df['text'].str.contains('afk',case=False)]\n",
    "t_df['text'] = 1\n",
    "t_df.rename(columns={\"text\":\"text_num\"}, inplace=True)\n",
    "t_df = t_df.sort_values('datetime')\n",
    "t_df.head()"
   ]
  },
  {
   "cell_type": "markdown",
   "metadata": {},
   "source": [
    "## Few exploratory graphs"
   ]
  },
  {
   "cell_type": "markdown",
   "metadata": {},
   "source": [
    "## Feature Engineering\n",
    "\n",
    "### Go through the following blogs\n",
    "- [Analytics Vidhya - 6 Powerful feature Engineering Techniques Time Series](https://www.analyticsvidhya.com/blog/2019/12/6-powerful-feature-engineering-techniques-time-series/)\n",
    "- [Towards Data Science - Feature Engineering on Time-Series Data for Human Activity Recognition](https://towardsdatascience.com/feature-engineering-on-time-series-data-transforming-signal-data-of-a-smartphone-accelerometer-for-72cbe34b8a60)\n",
    "- [Real-World Machine Learning - 7.3. Time-series features](https://livebook.manning.com/book/real-world-machine-learning/chapter-7/110)\n",
    "- [Dezyre - 7.3. Time-series features](https://www.dezyre.com/article/8-feature-engineering-techniques-for-machine-learning/423)\n",
    "\n",
    "### Feature Extraction"
   ]
  },
  {
   "cell_type": "code",
   "execution_count": 83,
   "metadata": {},
   "outputs": [
    {
     "data": {
      "text/html": [
       "<div>\n",
       "<style scoped>\n",
       "    .dataframe tbody tr th:only-of-type {\n",
       "        vertical-align: middle;\n",
       "    }\n",
       "\n",
       "    .dataframe tbody tr th {\n",
       "        vertical-align: top;\n",
       "    }\n",
       "\n",
       "    .dataframe thead th {\n",
       "        text-align: right;\n",
       "    }\n",
       "</style>\n",
       "<table border=\"1\" class=\"dataframe\">\n",
       "  <thead>\n",
       "    <tr style=\"text-align: right;\">\n",
       "      <th></th>\n",
       "      <th>text_num</th>\n",
       "    </tr>\n",
       "    <tr>\n",
       "      <th>datetime</th>\n",
       "      <th></th>\n",
       "    </tr>\n",
       "  </thead>\n",
       "  <tbody>\n",
       "    <tr>\n",
       "      <th>2018-02-13 11:00:00</th>\n",
       "      <td>1</td>\n",
       "    </tr>\n",
       "    <tr>\n",
       "      <th>2018-02-13 12:00:00</th>\n",
       "      <td>0</td>\n",
       "    </tr>\n",
       "    <tr>\n",
       "      <th>2018-02-13 13:00:00</th>\n",
       "      <td>0</td>\n",
       "    </tr>\n",
       "    <tr>\n",
       "      <th>2018-02-13 14:00:00</th>\n",
       "      <td>0</td>\n",
       "    </tr>\n",
       "    <tr>\n",
       "      <th>2018-02-13 15:00:00</th>\n",
       "      <td>0</td>\n",
       "    </tr>\n",
       "  </tbody>\n",
       "</table>\n",
       "</div>"
      ],
      "text/plain": [
       "                     text_num\n",
       "datetime                     \n",
       "2018-02-13 11:00:00         1\n",
       "2018-02-13 12:00:00         0\n",
       "2018-02-13 13:00:00         0\n",
       "2018-02-13 14:00:00         0\n",
       "2018-02-13 15:00:00         0"
      ]
     },
     "execution_count": 83,
     "metadata": {},
     "output_type": "execute_result"
    }
   ],
   "source": [
    "''' Logistic Time Series Data (helper methods)\n",
    "- Filter users if required\n",
    "- Resample data in 15min time solts or interval for time series\n",
    "- Convert text to binary\n",
    "'''\n",
    "\n",
    "def time_bin_binaryfy(df,time_var):\n",
    "    df.set_index(df.datetime, inplace=True)\n",
    "    df = df.resample(time_var).sum()\n",
    "    return df\n",
    "\n",
    "def user_filter(df, user=None):\n",
    "    if user is not None:\n",
    "        df = df[df['user']==user]\n",
    "    df.drop(['user'], axis=1, inplace=True)\n",
    "    return time_bin_binaryfy(df,'1H')\n",
    "\n",
    "# sample test\n",
    "temp_df = user_filter(t_df.sample(n=100, random_state=1))\n",
    "temp_df.head()"
   ]
  },
  {
   "cell_type": "code",
   "execution_count": 84,
   "metadata": {},
   "outputs": [
    {
     "data": {
      "text/plain": [
       "text_num    2\n",
       "dtype: int64"
      ]
     },
     "execution_count": 84,
     "metadata": {},
     "output_type": "execute_result"
    }
   ],
   "source": [
    "temp_df.max()"
   ]
  },
  {
   "cell_type": "code",
   "execution_count": 85,
   "metadata": {},
   "outputs": [
    {
     "data": {
      "text/html": [
       "<div>\n",
       "<style scoped>\n",
       "    .dataframe tbody tr th:only-of-type {\n",
       "        vertical-align: middle;\n",
       "    }\n",
       "\n",
       "    .dataframe tbody tr th {\n",
       "        vertical-align: top;\n",
       "    }\n",
       "\n",
       "    .dataframe thead th {\n",
       "        text-align: right;\n",
       "    }\n",
       "</style>\n",
       "<table border=\"1\" class=\"dataframe\">\n",
       "  <thead>\n",
       "    <tr style=\"text-align: right;\">\n",
       "      <th></th>\n",
       "      <th>year</th>\n",
       "      <th>month</th>\n",
       "      <th>day</th>\n",
       "      <th>dayofweek_num</th>\n",
       "      <th>dayofweek_name</th>\n",
       "    </tr>\n",
       "    <tr>\n",
       "      <th>datetime</th>\n",
       "      <th></th>\n",
       "      <th></th>\n",
       "      <th></th>\n",
       "      <th></th>\n",
       "      <th></th>\n",
       "    </tr>\n",
       "  </thead>\n",
       "  <tbody>\n",
       "    <tr>\n",
       "      <th>2018-02-13 11:00:00</th>\n",
       "      <td>2018</td>\n",
       "      <td>2</td>\n",
       "      <td>13</td>\n",
       "      <td>1</td>\n",
       "      <td>Tuesday</td>\n",
       "    </tr>\n",
       "    <tr>\n",
       "      <th>2018-02-13 12:00:00</th>\n",
       "      <td>2018</td>\n",
       "      <td>2</td>\n",
       "      <td>13</td>\n",
       "      <td>1</td>\n",
       "      <td>Tuesday</td>\n",
       "    </tr>\n",
       "    <tr>\n",
       "      <th>2018-02-13 13:00:00</th>\n",
       "      <td>2018</td>\n",
       "      <td>2</td>\n",
       "      <td>13</td>\n",
       "      <td>1</td>\n",
       "      <td>Tuesday</td>\n",
       "    </tr>\n",
       "    <tr>\n",
       "      <th>2018-02-13 14:00:00</th>\n",
       "      <td>2018</td>\n",
       "      <td>2</td>\n",
       "      <td>13</td>\n",
       "      <td>1</td>\n",
       "      <td>Tuesday</td>\n",
       "    </tr>\n",
       "    <tr>\n",
       "      <th>2018-02-13 15:00:00</th>\n",
       "      <td>2018</td>\n",
       "      <td>2</td>\n",
       "      <td>13</td>\n",
       "      <td>1</td>\n",
       "      <td>Tuesday</td>\n",
       "    </tr>\n",
       "    <tr>\n",
       "      <th>2018-02-13 16:00:00</th>\n",
       "      <td>2018</td>\n",
       "      <td>2</td>\n",
       "      <td>13</td>\n",
       "      <td>1</td>\n",
       "      <td>Tuesday</td>\n",
       "    </tr>\n",
       "    <tr>\n",
       "      <th>2018-02-13 17:00:00</th>\n",
       "      <td>2018</td>\n",
       "      <td>2</td>\n",
       "      <td>13</td>\n",
       "      <td>1</td>\n",
       "      <td>Tuesday</td>\n",
       "    </tr>\n",
       "    <tr>\n",
       "      <th>2018-02-13 18:00:00</th>\n",
       "      <td>2018</td>\n",
       "      <td>2</td>\n",
       "      <td>13</td>\n",
       "      <td>1</td>\n",
       "      <td>Tuesday</td>\n",
       "    </tr>\n",
       "    <tr>\n",
       "      <th>2018-02-13 19:00:00</th>\n",
       "      <td>2018</td>\n",
       "      <td>2</td>\n",
       "      <td>13</td>\n",
       "      <td>1</td>\n",
       "      <td>Tuesday</td>\n",
       "    </tr>\n",
       "    <tr>\n",
       "      <th>2018-02-13 20:00:00</th>\n",
       "      <td>2018</td>\n",
       "      <td>2</td>\n",
       "      <td>13</td>\n",
       "      <td>1</td>\n",
       "      <td>Tuesday</td>\n",
       "    </tr>\n",
       "  </tbody>\n",
       "</table>\n",
       "</div>"
      ],
      "text/plain": [
       "                     year  month  day  dayofweek_num dayofweek_name\n",
       "datetime                                                           \n",
       "2018-02-13 11:00:00  2018      2   13              1        Tuesday\n",
       "2018-02-13 12:00:00  2018      2   13              1        Tuesday\n",
       "2018-02-13 13:00:00  2018      2   13              1        Tuesday\n",
       "2018-02-13 14:00:00  2018      2   13              1        Tuesday\n",
       "2018-02-13 15:00:00  2018      2   13              1        Tuesday\n",
       "2018-02-13 16:00:00  2018      2   13              1        Tuesday\n",
       "2018-02-13 17:00:00  2018      2   13              1        Tuesday\n",
       "2018-02-13 18:00:00  2018      2   13              1        Tuesday\n",
       "2018-02-13 19:00:00  2018      2   13              1        Tuesday\n",
       "2018-02-13 20:00:00  2018      2   13              1        Tuesday"
      ]
     },
     "execution_count": 85,
     "metadata": {},
     "output_type": "execute_result"
    }
   ],
   "source": [
    "# Date related features\n",
    "def data_features(df):\n",
    "    df['year']=df.index.year\n",
    "    df['month']=df.index.month\n",
    "    df['day']=df.index.day\n",
    "    df['dayofweek_num']=df.index.dayofweek\n",
    "    df['dayofweek_name']=df.index.day_name()\n",
    "    return df[['year','month','day','dayofweek_num','dayofweek_name']]\n",
    "\n",
    "# sample test\n",
    "data_features(temp_df.head(10))"
   ]
  },
  {
   "cell_type": "code",
   "execution_count": 86,
   "metadata": {},
   "outputs": [
    {
     "data": {
      "text/html": [
       "<div>\n",
       "<style scoped>\n",
       "    .dataframe tbody tr th:only-of-type {\n",
       "        vertical-align: middle;\n",
       "    }\n",
       "\n",
       "    .dataframe tbody tr th {\n",
       "        vertical-align: top;\n",
       "    }\n",
       "\n",
       "    .dataframe thead th {\n",
       "        text-align: right;\n",
       "    }\n",
       "</style>\n",
       "<table border=\"1\" class=\"dataframe\">\n",
       "  <thead>\n",
       "    <tr style=\"text-align: right;\">\n",
       "      <th></th>\n",
       "      <th>hour</th>\n",
       "      <th>minute</th>\n",
       "    </tr>\n",
       "    <tr>\n",
       "      <th>datetime</th>\n",
       "      <th></th>\n",
       "      <th></th>\n",
       "    </tr>\n",
       "  </thead>\n",
       "  <tbody>\n",
       "    <tr>\n",
       "      <th>2018-02-13 11:00:00</th>\n",
       "      <td>11</td>\n",
       "      <td>0</td>\n",
       "    </tr>\n",
       "    <tr>\n",
       "      <th>2018-02-13 12:00:00</th>\n",
       "      <td>12</td>\n",
       "      <td>0</td>\n",
       "    </tr>\n",
       "    <tr>\n",
       "      <th>2018-02-13 13:00:00</th>\n",
       "      <td>13</td>\n",
       "      <td>0</td>\n",
       "    </tr>\n",
       "    <tr>\n",
       "      <th>2018-02-13 14:00:00</th>\n",
       "      <td>14</td>\n",
       "      <td>0</td>\n",
       "    </tr>\n",
       "    <tr>\n",
       "      <th>2018-02-13 15:00:00</th>\n",
       "      <td>15</td>\n",
       "      <td>0</td>\n",
       "    </tr>\n",
       "    <tr>\n",
       "      <th>2018-02-13 16:00:00</th>\n",
       "      <td>16</td>\n",
       "      <td>0</td>\n",
       "    </tr>\n",
       "    <tr>\n",
       "      <th>2018-02-13 17:00:00</th>\n",
       "      <td>17</td>\n",
       "      <td>0</td>\n",
       "    </tr>\n",
       "    <tr>\n",
       "      <th>2018-02-13 18:00:00</th>\n",
       "      <td>18</td>\n",
       "      <td>0</td>\n",
       "    </tr>\n",
       "    <tr>\n",
       "      <th>2018-02-13 19:00:00</th>\n",
       "      <td>19</td>\n",
       "      <td>0</td>\n",
       "    </tr>\n",
       "    <tr>\n",
       "      <th>2018-02-13 20:00:00</th>\n",
       "      <td>20</td>\n",
       "      <td>0</td>\n",
       "    </tr>\n",
       "  </tbody>\n",
       "</table>\n",
       "</div>"
      ],
      "text/plain": [
       "                     hour  minute\n",
       "datetime                         \n",
       "2018-02-13 11:00:00    11       0\n",
       "2018-02-13 12:00:00    12       0\n",
       "2018-02-13 13:00:00    13       0\n",
       "2018-02-13 14:00:00    14       0\n",
       "2018-02-13 15:00:00    15       0\n",
       "2018-02-13 16:00:00    16       0\n",
       "2018-02-13 17:00:00    17       0\n",
       "2018-02-13 18:00:00    18       0\n",
       "2018-02-13 19:00:00    19       0\n",
       "2018-02-13 20:00:00    20       0"
      ]
     },
     "execution_count": 86,
     "metadata": {},
     "output_type": "execute_result"
    }
   ],
   "source": [
    "# Time related features\n",
    "def time_features(df):\n",
    "    df['hour'] = df.index.hour\n",
    "    df['minute'] = df.index.minute\n",
    "    return df[['hour','minute']]\n",
    "\n",
    "# sample test\n",
    "time_features(temp_df.head(10))"
   ]
  },
  {
   "cell_type": "markdown",
   "id": "c6e528f2",
   "metadata": {},
   "source": [
    "### created feature functions\n",
    "- user_filter\n",
    "- data_features\n",
    "- time_features\n",
    "- lag_features\n",
    "- rolling_window_features\n",
    "- expanding_window_features\n",
    "- basic_statistical_features"
   ]
  },
  {
   "cell_type": "code",
   "execution_count": 91,
   "id": "e48cd7e6",
   "metadata": {},
   "outputs": [],
   "source": [
    "prep_data = user_filter(t_df)\n",
    "prep_data['ds'] = prep_data.index\n",
    "prep_data['y'] = prep_data['text_num']\n",
    "prep_data.drop(['text_num'], axis=1, inplace=True)\n",
    "prep_data.reset_index(drop=True, inplace=True)\n",
    "\n",
    "from sklearn.model_selection import train_test_split\n",
    "prep_data_train, prep_data_test = train_test_split(prep_data, test_size=0.2, shuffle=False)"
   ]
  },
  {
   "cell_type": "markdown",
   "id": "2832e3f5",
   "metadata": {},
   "source": [
    "## FB Prophet Model"
   ]
  },
  {
   "cell_type": "code",
   "execution_count": 92,
   "id": "f685ab53",
   "metadata": {},
   "outputs": [
    {
     "name": "stderr",
     "output_type": "stream",
     "text": [
      "INFO:prophet:Disabling yearly seasonality. Run prophet with yearly_seasonality=True to override this.\n"
     ]
    },
    {
     "name": "stdout",
     "output_type": "stream",
     "text": [
      "Initial log joint probability = -66.5899\n"
     ]
    },
    {
     "data": {
      "text/plain": [
       "<prophet.forecaster.Prophet at 0x7fdb555391d0>"
      ]
     },
     "execution_count": 92,
     "metadata": {},
     "output_type": "execute_result"
    },
    {
     "name": "stdout",
     "output_type": "stream",
     "text": [
      "    Iter      log prob        ||dx||      ||grad||       alpha      alpha0  # evals  Notes \n",
      "      99       31383.5    0.00320777       249.552      0.4565           1      122   \n",
      "    Iter      log prob        ||dx||      ||grad||       alpha      alpha0  # evals  Notes \n",
      "     133       31384.4   4.18887e-05       180.381   3.469e-07       0.001      211  LS failed, Hessian reset \n",
      "     199       31385.2    0.00115382       164.956           1           1      295   \n",
      "    Iter      log prob        ||dx||      ||grad||       alpha      alpha0  # evals  Notes \n",
      "     284       31385.4   4.31069e-06       77.5303   6.153e-08       0.001      450  LS failed, Hessian reset \n",
      "     292       31385.4   1.44973e-06       79.5369      0.5969      0.5969      459   \n",
      "Optimization terminated normally: \n",
      "  Convergence detected: relative gradient magnitude is below tolerance\n"
     ]
    }
   ],
   "source": [
    "from prophet import Prophet\n",
    "m = Prophet()\n",
    "m.fit(prep_data)"
   ]
  },
  {
   "cell_type": "code",
   "execution_count": 93,
   "id": "6155822f",
   "metadata": {},
   "outputs": [
    {
     "data": {
      "text/html": [
       "<div>\n",
       "<style scoped>\n",
       "    .dataframe tbody tr th:only-of-type {\n",
       "        vertical-align: middle;\n",
       "    }\n",
       "\n",
       "    .dataframe tbody tr th {\n",
       "        vertical-align: top;\n",
       "    }\n",
       "\n",
       "    .dataframe thead th {\n",
       "        text-align: right;\n",
       "    }\n",
       "</style>\n",
       "<table border=\"1\" class=\"dataframe\">\n",
       "  <thead>\n",
       "    <tr style=\"text-align: right;\">\n",
       "      <th></th>\n",
       "      <th>ds</th>\n",
       "      <th>yhat</th>\n",
       "      <th>yhat_lower</th>\n",
       "      <th>yhat_upper</th>\n",
       "    </tr>\n",
       "  </thead>\n",
       "  <tbody>\n",
       "    <tr>\n",
       "      <th>2920</th>\n",
       "      <td>2019-10-03 15:00:00</td>\n",
       "      <td>7.952626</td>\n",
       "      <td>3.042978</td>\n",
       "      <td>12.543496</td>\n",
       "    </tr>\n",
       "    <tr>\n",
       "      <th>2921</th>\n",
       "      <td>2019-10-03 16:00:00</td>\n",
       "      <td>5.877225</td>\n",
       "      <td>0.919367</td>\n",
       "      <td>10.475865</td>\n",
       "    </tr>\n",
       "    <tr>\n",
       "      <th>2922</th>\n",
       "      <td>2019-10-03 17:00:00</td>\n",
       "      <td>4.057636</td>\n",
       "      <td>-0.848827</td>\n",
       "      <td>8.416412</td>\n",
       "    </tr>\n",
       "    <tr>\n",
       "      <th>2923</th>\n",
       "      <td>2019-10-03 18:00:00</td>\n",
       "      <td>2.925480</td>\n",
       "      <td>-1.675783</td>\n",
       "      <td>7.437176</td>\n",
       "    </tr>\n",
       "    <tr>\n",
       "      <th>2924</th>\n",
       "      <td>2019-10-03 19:00:00</td>\n",
       "      <td>2.296105</td>\n",
       "      <td>-2.252559</td>\n",
       "      <td>6.893760</td>\n",
       "    </tr>\n",
       "  </tbody>\n",
       "</table>\n",
       "</div>"
      ],
      "text/plain": [
       "                      ds      yhat  yhat_lower  yhat_upper\n",
       "2920 2019-10-03 15:00:00  7.952626    3.042978   12.543496\n",
       "2921 2019-10-03 16:00:00  5.877225    0.919367   10.475865\n",
       "2922 2019-10-03 17:00:00  4.057636   -0.848827    8.416412\n",
       "2923 2019-10-03 18:00:00  2.925480   -1.675783    7.437176\n",
       "2924 2019-10-03 19:00:00  2.296105   -2.252559    6.893760"
      ]
     },
     "execution_count": 93,
     "metadata": {},
     "output_type": "execute_result"
    }
   ],
   "source": [
    "future_data = pd.DataFrame({'ds': prep_data_test['ds']})\n",
    "forecast = m.predict(future_data)\n",
    "forecast[['ds', 'yhat', 'yhat_lower', 'yhat_upper']].tail()"
   ]
  },
  {
   "cell_type": "code",
   "execution_count": 94,
   "id": "84abc769",
   "metadata": {},
   "outputs": [
    {
     "name": "stdout",
     "output_type": "stream",
     "text": [
      "5.185367571349577\n"
     ]
    }
   ],
   "source": [
    "from sklearn.metrics import mean_squared_error\n",
    "from math import sqrt\n",
    "prophet_rmse = sqrt(mean_squared_error(forecast['yhat'], prep_data_test['y']))\n",
    "print(prophet_rmse)"
   ]
  },
  {
   "cell_type": "markdown",
   "id": "bfa63254",
   "metadata": {},
   "source": [
    "### Prophet plots"
   ]
  },
  {
   "cell_type": "code",
   "execution_count": 95,
   "id": "7c311af8",
   "metadata": {},
   "outputs": [
    {
     "data": {
      "image/png": "[encoded data removed]",
      "text/plain": [
       "<Figure size 720x432 with 1 Axes>"
      ]
     },
     "metadata": {},
     "output_type": "display_data"
    }
   ],
   "source": [
    "fig1 = m.plot(forecast)"
   ]
  },
  {
   "cell_type": "code",
   "execution_count": 96,
   "id": "77352c33",
   "metadata": {},
   "outputs": [
    {
     "data": {
      "image/png": "[encoded data removed]",
      "text/plain": [
       "<Figure size 648x648 with 3 Axes>"
      ]
     },
     "metadata": {},
     "output_type": "display_data"
    }
   ],
   "source": [
    "fig2 = m.plot_components(forecast)"
   ]
  },
  {
   "cell_type": "markdown",
   "id": "4d90be95",
   "metadata": {},
   "source": [
    "### extra regressor"
   ]
  },
  {
   "cell_type": "code",
   "execution_count": 97,
   "id": "2db53d14",
   "metadata": {},
   "outputs": [],
   "source": [
    "data_features_df = data_features(temp_df.copy())\n",
    "time_features_df = time_features(temp_df.copy())\n",
    "lag_features_df = lag_features(temp_df.copy())\n",
    "rolling_window_features_df = rolling_window_features(temp_df.copy())\n",
    "expanding_window_features_df = expanding_window_features(temp_df.copy())\n",
    "# basic_statistical_features_df = basic_statistical_features(temp_df)"
   ]
  },
  {
   "cell_type": "code",
   "execution_count": 98,
   "id": "f8f4f1bf",
   "metadata": {},
   "outputs": [
    {
     "data": {
      "text/html": [
       "<div>\n",
       "<style scoped>\n",
       "    .dataframe tbody tr th:only-of-type {\n",
       "        vertical-align: middle;\n",
       "    }\n",
       "\n",
       "    .dataframe tbody tr th {\n",
       "        vertical-align: top;\n",
       "    }\n",
       "\n",
       "    .dataframe thead th {\n",
       "        text-align: right;\n",
       "    }\n",
       "</style>\n",
       "<table border=\"1\" class=\"dataframe\">\n",
       "  <thead>\n",
       "    <tr style=\"text-align: right;\">\n",
       "      <th></th>\n",
       "      <th>text_num</th>\n",
       "    </tr>\n",
       "    <tr>\n",
       "      <th>datetime</th>\n",
       "      <th></th>\n",
       "    </tr>\n",
       "  </thead>\n",
       "  <tbody>\n",
       "    <tr>\n",
       "      <th>2018-02-13 11:00:00</th>\n",
       "      <td>1</td>\n",
       "    </tr>\n",
       "    <tr>\n",
       "      <th>2018-02-13 12:00:00</th>\n",
       "      <td>0</td>\n",
       "    </tr>\n",
       "    <tr>\n",
       "      <th>2018-02-13 13:00:00</th>\n",
       "      <td>0</td>\n",
       "    </tr>\n",
       "    <tr>\n",
       "      <th>2018-02-13 14:00:00</th>\n",
       "      <td>0</td>\n",
       "    </tr>\n",
       "    <tr>\n",
       "      <th>2018-02-13 15:00:00</th>\n",
       "      <td>0</td>\n",
       "    </tr>\n",
       "  </tbody>\n",
       "</table>\n",
       "</div>"
      ],
      "text/plain": [
       "                     text_num\n",
       "datetime                     \n",
       "2018-02-13 11:00:00         1\n",
       "2018-02-13 12:00:00         0\n",
       "2018-02-13 13:00:00         0\n",
       "2018-02-13 14:00:00         0\n",
       "2018-02-13 15:00:00         0"
      ]
     },
     "execution_count": 98,
     "metadata": {},
     "output_type": "execute_result"
    }
   ],
   "source": [
    "temp_df.head()"
   ]
  },
  {
   "cell_type": "code",
   "execution_count": 99,
   "id": "69f26dc9",
   "metadata": {},
   "outputs": [],
   "source": [
    "# concat all features\n",
    "features_df = pd.concat([temp_df, data_features_df, time_features_df, lag_features_df, rolling_window_features_df, expanding_window_features_df], axis=1)\n",
    "features_df.head()"
   ]
  },
  {
   "cell_type": "code",
   "execution_count": 103,
   "id": "ac6bf0ed",
   "metadata": {},
   "outputs": [
    {
     "name": "stdout",
     "output_type": "stream",
     "text": [
      "13757\n",
      "13757\n",
      "Index(['text_num', 'year', 'month', 'day', 'dayofweek_num', 'dayofweek_name',\n",
      "       'hour', 'minute', 'lag_0', 'rolling_mean', 'rolling_min', 'rolling_max',\n",
      "       'expanding_mean', 'expanding_min', 'expanding_max'],\n",
      "      dtype='object')\n"
     ]
    }
   ],
   "source": [
    "# row count\n",
    "print(features_df.shape[0])\n",
    "print(temp_df.shape[0])\n",
    "print(features_df.columns)"
   ]
  },
  {
   "cell_type": "markdown",
   "id": "6c292dbc",
   "metadata": {},
   "source": [
    "## LSTM Model\n",
    "- https://www.kaggle.com/rohanlimaye20/lstm-dataquest-2020\n",
    "- https://github.com/AJV009/Machine_Learning_NB/blob/master/Kaggle-DataQuest2020/DQ-EP12.ipynb"
   ]
  },
  {
   "cell_type": "code",
   "execution_count": null,
   "id": "e3968933",
   "metadata": {},
   "outputs": [],
   "source": [
    "# create a timeseries lstm model to predict the test data"
   ]
  },
  {
   "cell_type": "markdown",
   "metadata": {},
   "source": [
    "## Exposed Endpoint"
   ]
  },
  {
   "cell_type": "code",
   "execution_count": null,
   "metadata": {},
   "outputs": [],
   "source": []
  },
  {
   "cell_type": "markdown",
   "id": "63d1e634",
   "metadata": {},
   "source": [
    "### write a blog, example for the blogpost - https://www.qed42.com/insights/future-work/machine-learning/how-we-implemented-machine-learning-slack-detailed-analytics "
   ]
  },
  {
   "cell_type": "markdown",
   "id": "cee9edb3",
   "metadata": {},
   "source": [
    "User level prediction PLEASE!"
   ]
  },
  {
   "cell_type": "markdown",
   "id": "b0d82b06",
   "metadata": {},
   "source": []
  }
 ],
 "metadata": {
  "interpreter": {
   "hash": "8b075efc3bc7184f5bc581811498a231d35a54cdecf149c7a103cbe1ded7f981"
  },
  "kernelspec": {
   "display_name": "Python 3.8.10 64-bit ('slackml': conda)",
   "name": "python3"
  },
  "language_info": {
   "codemirror_mode": {
    "name": "ipython",
    "version": 3
   },
   "file_extension": ".py",
   "mimetype": "text/x-python",
   "name": "python",
   "nbconvert_exporter": "python",
   "pygments_lexer": "ipython3",
   "version": "3.7.12"
  },
  "toc-showmarkdowntxt": true
 },
 "nbformat": 4,
 "nbformat_minor": 5
}
